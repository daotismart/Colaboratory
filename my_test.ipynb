{
  "nbformat": 4,
  "nbformat_minor": 0,
  "metadata": {
    "colab": {
      "name": "my_test.ipynb",
      "provenance": [],
      "collapsed_sections": [],
      "include_colab_link": true
    },
    "kernelspec": {
      "name": "python3",
      "display_name": "Python 3"
    },
    "accelerator": "GPU"
  },
  "cells": [
    {
      "cell_type": "markdown",
      "metadata": {
        "id": "view-in-github",
        "colab_type": "text"
      },
      "source": [
        "<a href=\"https://colab.research.google.com/github/daotismart/Colaboratory/blob/master/my_test.ipynb\" target=\"_parent\"><img src=\"https://colab.research.google.com/assets/colab-badge.svg\" alt=\"Open In Colab\"/></a>"
      ]
    },
    {
      "cell_type": "code",
      "metadata": {
        "id": "BhyLL9TyOK2A",
        "colab_type": "code",
        "colab": {
          "base_uri": "https://localhost:8080/",
          "height": 82
        },
        "outputId": "19591d2d-cbe8-41c2-dce6-68f70c292766"
      },
      "source": [
        "import tensorflow as tf\n",
        "device_name = tf.test.gpu_device_name()\n",
        "if device_name != '/device:GPU:0':\n",
        "  raise SystemError('GPU device not found')\n",
        "print('Found GPU at: {}'.format(device_name))"
      ],
      "execution_count": 1,
      "outputs": [
        {
          "output_type": "display_data",
          "data": {
            "text/html": [
              "<p style=\"color: red;\">\n",
              "The default version of TensorFlow in Colab will soon switch to TensorFlow 2.x.<br>\n",
              "We recommend you <a href=\"https://www.tensorflow.org/guide/migrate\" target=\"_blank\">upgrade</a> now \n",
              "or ensure your notebook will continue to use TensorFlow 1.x via the <code>%tensorflow_version 1.x</code> magic:\n",
              "<a href=\"https://colab.research.google.com/notebooks/tensorflow_version.ipynb\" target=\"_blank\">more info</a>.</p>\n"
            ],
            "text/plain": [
              "<IPython.core.display.HTML object>"
            ]
          },
          "metadata": {
            "tags": []
          }
        },
        {
          "output_type": "stream",
          "text": [
            "Found GPU at: /device:GPU:0\n"
          ],
          "name": "stdout"
        }
      ]
    },
    {
      "cell_type": "code",
      "metadata": {
        "id": "4P8i9cCCO1w9",
        "colab_type": "code",
        "colab": {
          "base_uri": "https://localhost:8080/",
          "height": 305
        },
        "outputId": "8a707c68-f10d-4780-ace4-163180d034d0"
      },
      "source": [
        "!nvidia-smi"
      ],
      "execution_count": 2,
      "outputs": [
        {
          "output_type": "stream",
          "text": [
            "Tue Nov  5 15:42:45 2019       \n",
            "+-----------------------------------------------------------------------------+\n",
            "| NVIDIA-SMI 430.50       Driver Version: 418.67       CUDA Version: 10.1     |\n",
            "|-------------------------------+----------------------+----------------------+\n",
            "| GPU  Name        Persistence-M| Bus-Id        Disp.A | Volatile Uncorr. ECC |\n",
            "| Fan  Temp  Perf  Pwr:Usage/Cap|         Memory-Usage | GPU-Util  Compute M. |\n",
            "|===============================+======================+======================|\n",
            "|   0  Tesla K80           Off  | 00000000:00:04.0 Off |                    0 |\n",
            "| N/A   38C    P0    56W / 149W |     69MiB / 11441MiB |      0%      Default |\n",
            "+-------------------------------+----------------------+----------------------+\n",
            "                                                                               \n",
            "+-----------------------------------------------------------------------------+\n",
            "| Processes:                                                       GPU Memory |\n",
            "|  GPU       PID   Type   Process name                             Usage      |\n",
            "|=============================================================================|\n",
            "+-----------------------------------------------------------------------------+\n"
          ],
          "name": "stdout"
        }
      ]
    },
    {
      "cell_type": "code",
      "metadata": {
        "id": "m9UW6TTFOcu9",
        "colab_type": "code",
        "colab": {
          "base_uri": "https://localhost:8080/",
          "height": 137
        },
        "outputId": "7dcd70a3-2679-4678-a64e-40d85d762aeb"
      },
      "source": [
        "import tensorflow as tf\n",
        "import timeit\n",
        "\n",
        "# See https://www.tensorflow.org/tutorials/using_gpu#allowing_gpu_memory_growth\n",
        "config = tf.ConfigProto()\n",
        "config.gpu_options.allow_growth = True\n",
        "\n",
        "with tf.device('/cpu:0'):\n",
        "  random_image_cpu = tf.random_normal((100, 100, 100, 3))\n",
        "  net_cpu = tf.layers.conv2d(random_image_cpu, 32, 7)\n",
        "  net_cpu = tf.reduce_sum(net_cpu)\n",
        "\n",
        "with tf.device('/device:GPU:0'):\n",
        "  random_image_gpu = tf.random_normal((100, 100, 100, 3))\n",
        "  net_gpu = tf.layers.conv2d(random_image_gpu, 32, 7)\n",
        "  net_gpu = tf.reduce_sum(net_gpu)\n",
        "\n",
        "sess = tf.Session(config=config)\n",
        "\n",
        "# Ensure that TF can detect the GPU.\n",
        "try:\n",
        "  sess.run(tf.global_variables_initializer())\n",
        "except tf.errors.InvalidArgumentError:\n",
        "  print(\n",
        "      '\\n\\nThis error most likely means that this notebook is not '\n",
        "      'configured to use a GPU.  Change this in Notebook Settings via the '\n",
        "      'command palette (cmd/ctrl-shift-P) or the Edit menu.\\n\\n')\n",
        "  raise\n",
        "\n",
        "def cpu():\n",
        "  sess.run(net_cpu)\n",
        "  \n",
        "def gpu():\n",
        "  sess.run(net_gpu)\n",
        "  \n",
        "# We run each op once to warm up; see: https://stackoverflow.com/a/45067900\n",
        "cpu()\n",
        "gpu()\n",
        "\n",
        "# Run the op several times.\n",
        "print('Time (s) to convolve 32x7x7x3 filter over random 100x100x100x3 images '\n",
        "      '(batch x height x width x channel). Sum of ten runs.')\n",
        "print('CPU (s):')\n",
        "cpu_time = timeit.timeit('cpu()', number=10, setup=\"from __main__ import cpu\")\n",
        "print(cpu_time)\n",
        "print('GPU (s):')\n",
        "gpu_time = timeit.timeit('gpu()', number=10, setup=\"from __main__ import gpu\")\n",
        "print(gpu_time)\n",
        "print('GPU speedup over CPU: {}x'.format(int(cpu_time/gpu_time)))\n",
        "\n",
        "sess.close()"
      ],
      "execution_count": 3,
      "outputs": [
        {
          "output_type": "error",
          "ename": "SyntaxError",
          "evalue": "ignored",
          "traceback": [
            "\u001b[0;36m  File \u001b[0;32m\"<ipython-input-3-5b70b0a24c34>\"\u001b[0;36m, line \u001b[0;32m49\u001b[0m\n\u001b[0;31m    print('GPU speedup over CPU: {}x'.format(int(cpu_ti\u001b[0m\n\u001b[0m                                                       ^\u001b[0m\n\u001b[0;31mSyntaxError\u001b[0m\u001b[0;31m:\u001b[0m unexpected EOF while parsing\n"
          ]
        }
      ]
    },
    {
      "cell_type": "code",
      "metadata": {
        "id": "LLJp9A1mPJ86",
        "colab_type": "code",
        "colab": {
          "base_uri": "https://localhost:8080/",
          "height": 251
        },
        "outputId": "a39d478a-507b-408a-81fc-1c6ef4a39e7f"
      },
      "source": [
        "import os\n",
        "import pprint\n",
        "import tensorflow as tf\n",
        "\n",
        "if 'COLAB_TPU_ADDR' not in os.environ:\n",
        "  print('ERROR: Not connected to a TPU runtime; please see the first cell in this notebook for instructions!')\n",
        "else:\n",
        "  tpu_address = 'grpc://' + os.environ['COLAB_TPU_ADDR']\n",
        "  print ('TPU address is', tpu_address)\n",
        "\n",
        "  with tf.Session(tpu_address) as session:\n",
        "    devices = session.list_devices()\n",
        "    \n",
        "  print('TPU devices:')\n",
        "  pprint.pprint(devices)"
      ],
      "execution_count": 1,
      "outputs": [
        {
          "output_type": "stream",
          "text": [
            "TPU address is grpc://10.100.79.42:8470\n",
            "TPU devices:\n",
            "[_DeviceAttributes(/job:tpu_worker/replica:0/task:0/device:CPU:0, CPU, -1, 9192024358033324666),\n",
            " _DeviceAttributes(/job:tpu_worker/replica:0/task:0/device:XLA_CPU:0, XLA_CPU, 17179869184, 11030546621385318037),\n",
            " _DeviceAttributes(/job:tpu_worker/replica:0/task:0/device:TPU:0, TPU, 17179869184, 1103778993579264395),\n",
            " _DeviceAttributes(/job:tpu_worker/replica:0/task:0/device:TPU:1, TPU, 17179869184, 10678666028221508971),\n",
            " _DeviceAttributes(/job:tpu_worker/replica:0/task:0/device:TPU:2, TPU, 17179869184, 2111134298377998511),\n",
            " _DeviceAttributes(/job:tpu_worker/replica:0/task:0/device:TPU:3, TPU, 17179869184, 4830106975220869580),\n",
            " _DeviceAttributes(/job:tpu_worker/replica:0/task:0/device:TPU:4, TPU, 17179869184, 17937469497975113670),\n",
            " _DeviceAttributes(/job:tpu_worker/replica:0/task:0/device:TPU:5, TPU, 17179869184, 2133091406477965277),\n",
            " _DeviceAttributes(/job:tpu_worker/replica:0/task:0/device:TPU:6, TPU, 17179869184, 5676475190335540156),\n",
            " _DeviceAttributes(/job:tpu_worker/replica:0/task:0/device:TPU:7, TPU, 17179869184, 16095464100861145129),\n",
            " _DeviceAttributes(/job:tpu_worker/replica:0/task:0/device:TPU_SYSTEM:0, TPU_SYSTEM, 8589934592, 8918534997594362545)]\n"
          ],
          "name": "stdout"
        }
      ]
    },
    {
      "cell_type": "code",
      "metadata": {
        "id": "GPPu9KboPMPI",
        "colab_type": "code",
        "colab": {
          "base_uri": "https://localhost:8080/",
          "height": 215
        },
        "outputId": "861dd9be-e871-4dcd-cbee-fcdecd24390e"
      },
      "source": [
        "N = 4096\n",
        "COUNT = 100\n",
        "import time\n",
        "\n",
        "def flops():\n",
        "  x = tf.random_uniform([N, N])\n",
        "  y = tf.random_uniform([N, N])\n",
        "  def _matmul(x, y):\n",
        "    return tf.tensordot(x, y, axes=[[1], [0]]), y\n",
        "\n",
        "  return tf.reduce_sum(\n",
        "    tf.contrib.tpu.repeat(COUNT, _matmul, [x, y])\n",
        "  )\n",
        "  \n",
        "tpu_ops = tf.contrib.tpu.batch_parallel(flops, [], num_shards=8)\n",
        "  \n",
        "session = tf.Session(tpu_address)\n",
        "try:\n",
        "  print('Warming up...')\n",
        "  session.run(tf.contrib.tpu.initialize_system())\n",
        "  session.run(tpu_ops)\n",
        "  print('Profiling')\n",
        "  start = time.time()\n",
        "  session.run(tpu_ops)\n",
        "  end = time.time()\n",
        "  elapsed = end - start\n",
        "  print(elapsed, 'TFlops: {:.2f}'.format(1e-12 * 8 * COUNT * 2*N*N*N / elapsed))\n",
        "finally:\n",
        "  session.run(tf.contrib.tpu.shutdown_system())\n",
        "  session.close()"
      ],
      "execution_count": 2,
      "outputs": [
        {
          "output_type": "stream",
          "text": [
            "WARNING:tensorflow:\n",
            "The TensorFlow contrib module will not be included in TensorFlow 2.0.\n",
            "For more information, please see:\n",
            "  * https://github.com/tensorflow/community/blob/master/rfcs/20180907-contrib-sunset.md\n",
            "  * https://github.com/tensorflow/addons\n",
            "  * https://github.com/tensorflow/io (for I/O related ops)\n",
            "If you depend on functionality not listed there, please file an issue.\n",
            "\n",
            "Warming up...\n",
            "Profiling\n",
            "0.6749606132507324 TFlops: 162.90\n"
          ],
          "name": "stdout"
        }
      ]
    },
    {
      "cell_type": "code",
      "metadata": {
        "id": "jU7cKkVTPo8w",
        "colab_type": "code",
        "colab": {}
      },
      "source": [
        "from google.colab import drive\n",
        "drive.mount('/content/drive')"
      ],
      "execution_count": 0,
      "outputs": []
    },
    {
      "cell_type": "markdown",
      "metadata": {
        "id": "2f51-nNaRYP8",
        "colab_type": "text"
      },
      "source": [
        "file_name\tsize\tlink\n",
        "kfbreader.zip\t59.8MB\thttp://tianchi-competition.oss-cn-hangzhou.aliyuncs.com/231757/kfbreader.zip\n",
        "labels.zip\t210.29KB\thttp://tianchi-competition.oss-cn-hangzhou.aliyuncs.com/231757/labels.zip\n",
        "neg_0.zip\t10.74GB\thttp://tianchi-competition.oss-cn-hangzhou.aliyuncs.com/231757/neg_0.zip\n",
        "neg_1.zip\t10.24GB\thttp://tianchi-competition.oss-cn-hangzhou.aliyuncs.com/231757/neg_1.zip\n",
        "neg_2.zip\t11.55GB\thttp://tianchi-competition.oss-cn-hangzhou.aliyuncs.com/231757/neg_2.zip\n",
        "neg_3.zip\t11.11GB\thttp://tianchi-competition.oss-cn-hangzhou.aliyuncs.com/231757/neg_3.zip\n",
        "neg_4.zip\t11.25GB\thttp://tianchi-competition.oss-cn-hangzhou.aliyuncs.com/231757/neg_4.zip\n",
        "neg_5.zip\t11.57GB\thttp://tianchi-competition.oss-cn-hangzhou.aliyuncs.com/231757/neg_5.zip\n",
        "pos_0.zip\t13.01GB\thttp://tianchi-competition.oss-cn-hangzhou.aliyuncs.com/231757/pos_0.zip\n",
        "pos_1.zip\t12.68GB\thttp://tianchi-competition.oss-cn-hangzhou.aliyuncs.com/231757/pos_1.zip\n",
        "pos_2.zip\t12.85GB\thttp://tianchi-competition.oss-cn-hangzhou.aliyuncs.com/231757/pos_2.zip\n",
        "pos_3.zip\t12.74GB\thttp://tianchi-competition.oss-cn-hangzhou.aliyuncs.com/231757/pos_3.zip\n",
        "pos_4.zip\t12.81GB\thttp://tianchi-competition.oss-cn-hangzhou.aliyuncs.com/231757/pos_4.zip\n",
        "pos_5.zip\t12.84GB\thttp://tianchi-competition.oss-cn-hangzhou.aliyuncs.com/231757/pos_5.zip\n",
        "pos_6.zip\t13.36GB\thttp://tianchi-competition.oss-cn-hangzhou.aliyuncs.com/231757/pos_6.zip\n",
        "pos_7.zip\t13.41GB\thttp://tianchi-competition.oss-cn-hangzhou.aliyuncs.com/231757/pos_7.zip\n",
        "pos_8.zip\t12.97GB\thttp://tianchi-competition.oss-cn-hangzhou.aliyuncs.com/231757/pos_8.zip\n",
        "pos_9.zip\t14.48GB\thttp://tianchi-competition.oss-cn-hangzhou.aliyuncs.com/231757/pos_9.zip\n",
        "test_0.zip\t12.03GB\thttp://tianchi-competition.oss-cn-hangzhou.aliyuncs.com/231757/test_0.zip\n",
        "test_1.zip\t12.5GB\thttp://tianchi-competition.oss-cn-hangzhou.aliyuncs.com/231757/test_1.zip\n",
        "test_2.zip\t12.64GB\thttp://tianchi-competition.oss-cn-hangzhou.aliyuncs.com/231757/test_2.zip\n",
        "test_3.zip\t11.4GB\thttp://tianchi-competition.oss-cn-hangzhou.aliyuncs.com/231757/test_3.zip\n"
      ]
    },
    {
      "cell_type": "code",
      "metadata": {
        "id": "ENJlg7KXP2ti",
        "colab_type": "code",
        "colab": {
          "base_uri": "https://localhost:8080/",
          "height": 323
        },
        "outputId": "84ad97a4-f1f6-4d5e-9fe2-fd7882d821ee"
      },
      "source": [
        "!wget  http://tianchi-competition.oss-cn-hangzhou.aliyuncs.com/231757/kfbreader.zip cancer_data"
      ],
      "execution_count": 12,
      "outputs": [
        {
          "output_type": "stream",
          "text": [
            "--2019-11-05 15:59:53--  http://tianchi-competition.oss-cn-hangzhou.aliyuncs.com/231757/kfbreader.zip\n",
            "Resolving tianchi-competition.oss-cn-hangzhou.aliyuncs.com (tianchi-competition.oss-cn-hangzhou.aliyuncs.com)... 118.31.232.194\n",
            "Connecting to tianchi-competition.oss-cn-hangzhou.aliyuncs.com (tianchi-competition.oss-cn-hangzhou.aliyuncs.com)|118.31.232.194|:80... connected.\n",
            "HTTP request sent, awaiting response... 200 OK\n",
            "Length: 77483037 (74M) [application/zip]\n",
            "Saving to: ‘kfbreader.zip’\n",
            "\n",
            "kfbreader.zip       100%[===================>]  73.89M  1.32MB/s    in 55s     \n",
            "\n",
            "2019-11-05 16:00:50 (1.34 MB/s) - ‘kfbreader.zip’ saved [77483037/77483037]\n",
            "\n",
            "--2019-11-05 16:00:50--  http://cancer_data/\n",
            "Resolving cancer_data (cancer_data)... failed: Name or service not known.\n",
            "wget: unable to resolve host address ‘cancer_data’\n",
            "FINISHED --2019-11-05 16:00:50--\n",
            "Total wall clock time: 57s\n",
            "Downloaded: 1 files, 74M in 55s (1.34 MB/s)\n"
          ],
          "name": "stdout"
        }
      ]
    },
    {
      "cell_type": "code",
      "metadata": {
        "id": "z_sLvdv2S7YV",
        "colab_type": "code",
        "colab": {
          "base_uri": "https://localhost:8080/",
          "height": 377
        },
        "outputId": "acb877c9-48ab-427e-d16b-add6660a2919"
      },
      "source": [
        "!wget http://tianchi-competition.oss-cn-hangzhou.aliyuncs.com/231757/labels.zip neg_0.zip cancer_data/ &"
      ],
      "execution_count": 13,
      "outputs": [
        {
          "output_type": "stream",
          "text": [
            "--2019-11-05 16:01:22--  http://tianchi-competition.oss-cn-hangzhou.aliyuncs.com/231757/labels.zip\n",
            "Resolving tianchi-competition.oss-cn-hangzhou.aliyuncs.com (tianchi-competition.oss-cn-hangzhou.aliyuncs.com)... 118.31.232.194\n",
            "Connecting to tianchi-competition.oss-cn-hangzhou.aliyuncs.com (tianchi-competition.oss-cn-hangzhou.aliyuncs.com)|118.31.232.194|:80... connected.\n",
            "HTTP request sent, awaiting response... 200 OK\n",
            "Length: 215337 (210K) [application/zip]\n",
            "Saving to: ‘labels.zip’\n",
            "\n",
            "\rlabels.zip            0%[                    ]       0  --.-KB/s               \rlabels.zip           10%[=>                  ]  21.68K  78.9KB/s               \rlabels.zip           23%[===>                ]  49.96K  90.6KB/s               \rlabels.zip           50%[=========>          ] 106.52K   129KB/s               \rlabels.zip          100%[===================>] 210.29K   254KB/s    in 0.8s    \n",
            "\n",
            "2019-11-05 16:01:23 (254 KB/s) - ‘labels.zip’ saved [215337/215337]\n",
            "\n",
            "--2019-11-05 16:01:23--  http://neg_0.zip/\n",
            "Resolving neg_0.zip (neg_0.zip)... failed: Name or service not known.\n",
            "wget: unable to resolve host address ‘neg_0.zip’\n",
            "--2019-11-05 16:01:23--  http://cancer_data/\n",
            "Resolving cancer_data (cancer_data)... failed: Name or service not known.\n",
            "wget: unable to resolve host address ‘cancer_data’\n",
            "FINISHED --2019-11-05 16:01:23--\n",
            "Total wall clock time: 1.8s\n",
            "Downloaded: 1 files, 210K in 0.8s (254 KB/s)\n"
          ],
          "name": "stdout"
        }
      ]
    },
    {
      "cell_type": "code",
      "metadata": {
        "id": "h8Lm7R8xTXbI",
        "colab_type": "code",
        "colab": {
          "base_uri": "https://localhost:8080/",
          "height": 172
        },
        "outputId": "c4b60558-9153-4591-91d7-7501b97ed6a6"
      },
      "source": [
        "!wget  http://tianchi-competition.oss-cn-hangzhou.aliyuncs.com/231757/neg_0.zip neg_1.zip ./cancer_data/ &"
      ],
      "execution_count": 0,
      "outputs": [
        {
          "output_type": "stream",
          "text": [
            "--2019-11-05 16:02:49--  http://tianchi-competition.oss-cn-hangzhou.aliyuncs.com/231757/neg_0.zip\n",
            "Resolving tianchi-competition.oss-cn-hangzhou.aliyuncs.com (tianchi-competition.oss-cn-hangzhou.aliyuncs.com)... 118.31.232.194\n",
            "Connecting to tianchi-competition.oss-cn-hangzhou.aliyuncs.com (tianchi-competition.oss-cn-hangzhou.aliyuncs.com)|118.31.232.194|:80... connected.\n",
            "HTTP request sent, awaiting response... 200 OK\n",
            "Length: 11531655505 (11G) [application/zip]\n",
            "Saving to: ‘neg_0.zip’\n",
            "\n",
            "neg_0.zip             3%[                    ] 348.72M  1.19MB/s    eta 2h 26m "
          ],
          "name": "stdout"
        }
      ]
    },
    {
      "cell_type": "code",
      "metadata": {
        "id": "UzM9v5bpT3Hi",
        "colab_type": "code",
        "colab": {}
      },
      "source": [
        "!wget  http://tianchi-competition.oss-cn-hangzhou.aliyuncs.com/231757/neg_0.zip neg_2.zip ./cancer_data/ &"
      ],
      "execution_count": 0,
      "outputs": []
    },
    {
      "cell_type": "code",
      "metadata": {
        "id": "An2mouZxUAJ0",
        "colab_type": "code",
        "colab": {}
      },
      "source": [
        "!wget  http://tianchi-competition.oss-cn-hangzhou.aliyuncs.com/231757/neg_0.zip neg_3.zip ./cancer_data/ &"
      ],
      "execution_count": 0,
      "outputs": []
    },
    {
      "cell_type": "code",
      "metadata": {
        "id": "G5iEqyrwUC-3",
        "colab_type": "code",
        "colab": {}
      },
      "source": [
        "!wget  http://tianchi-competition.oss-cn-hangzhou.aliyuncs.com/231757/neg_0.zip neg_4.zip ./cancer_data/ &"
      ],
      "execution_count": 0,
      "outputs": []
    },
    {
      "cell_type": "code",
      "metadata": {
        "id": "SrVfI5VMUEwZ",
        "colab_type": "code",
        "colab": {}
      },
      "source": [
        "!wget  http://tianchi-competition.oss-cn-hangzhou.aliyuncs.com/231757/neg_0.zip neg_5.zip ./cancer_data/ &"
      ],
      "execution_count": 0,
      "outputs": []
    },
    {
      "cell_type": "code",
      "metadata": {
        "id": "wLEsyXK0UKE-",
        "colab_type": "code",
        "colab": {}
      },
      "source": [
        "!wget  http://tianchi-competition.oss-cn-hangzhou.aliyuncs.com/231757/neg_0.zip pos_0.zip ./cancer_data/ &"
      ],
      "execution_count": 0,
      "outputs": []
    },
    {
      "cell_type": "code",
      "metadata": {
        "id": "3U_XewqnUT-H",
        "colab_type": "code",
        "colab": {}
      },
      "source": [
        "!wget  http://tianchi-competition.oss-cn-hangzhou.aliyuncs.com/231757/neg_0.zip pos_1.zip ./cancer_data/ &"
      ],
      "execution_count": 0,
      "outputs": []
    },
    {
      "cell_type": "code",
      "metadata": {
        "id": "zhjLRRd_UWS6",
        "colab_type": "code",
        "colab": {}
      },
      "source": [
        "!wget  http://tianchi-competition.oss-cn-hangzhou.aliyuncs.com/231757/neg_0.zip pos_2.zip ./cancer_data/ &"
      ],
      "execution_count": 0,
      "outputs": []
    },
    {
      "cell_type": "code",
      "metadata": {
        "id": "bKY7WP0nUYBy",
        "colab_type": "code",
        "colab": {}
      },
      "source": [
        "!wget  http://tianchi-competition.oss-cn-hangzhou.aliyuncs.com/231757/neg_0.zip pos_3.zip ./cancer_data/ &"
      ],
      "execution_count": 0,
      "outputs": []
    },
    {
      "cell_type": "code",
      "metadata": {
        "id": "HV5mFULIUZ86",
        "colab_type": "code",
        "colab": {}
      },
      "source": [
        "!wget  http://tianchi-competition.oss-cn-hangzhou.aliyuncs.com/231757/neg_0.zip pos_4.zip ./cancer_data/ &"
      ],
      "execution_count": 0,
      "outputs": []
    },
    {
      "cell_type": "code",
      "metadata": {
        "id": "KhNIrP9BUblA",
        "colab_type": "code",
        "colab": {}
      },
      "source": [
        "!wget  http://tianchi-competition.oss-cn-hangzhou.aliyuncs.com/231757/neg_0.zip pos_5.zip ./cancer_data/ &"
      ],
      "execution_count": 0,
      "outputs": []
    }
  ]
}